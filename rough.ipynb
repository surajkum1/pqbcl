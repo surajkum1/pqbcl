{
 "cells": [
  {
   "cell_type": "code",
   "execution_count": 2,
   "metadata": {},
   "outputs": [
    {
     "data": {
      "text/html": [
       "<div>\n",
       "<style scoped>\n",
       "    .dataframe tbody tr th:only-of-type {\n",
       "        vertical-align: middle;\n",
       "    }\n",
       "\n",
       "    .dataframe tbody tr th {\n",
       "        vertical-align: top;\n",
       "    }\n",
       "\n",
       "    .dataframe thead th {\n",
       "        text-align: right;\n",
       "    }\n",
       "</style>\n",
       "<table border=\"1\" class=\"dataframe\">\n",
       "  <thead>\n",
       "    <tr style=\"text-align: right;\">\n",
       "      <th></th>\n",
       "      <th>1</th>\n",
       "      <th>2</th>\n",
       "      <th>3</th>\n",
       "      <th>4</th>\n",
       "      <th>5</th>\n",
       "    </tr>\n",
       "  </thead>\n",
       "  <tbody>\n",
       "    <tr>\n",
       "      <th>0</th>\n",
       "      <td>0.100040</td>\n",
       "      <td>0.100040</td>\n",
       "      <td>0.100040</td>\n",
       "      <td>0.100040</td>\n",
       "      <td>0.100040</td>\n",
       "    </tr>\n",
       "    <tr>\n",
       "      <th>1</th>\n",
       "      <td>0.130192</td>\n",
       "      <td>0.129636</td>\n",
       "      <td>0.129636</td>\n",
       "      <td>0.129636</td>\n",
       "      <td>0.129636</td>\n",
       "    </tr>\n",
       "    <tr>\n",
       "      <th>2</th>\n",
       "      <td>0.177199</td>\n",
       "      <td>0.169016</td>\n",
       "      <td>0.169016</td>\n",
       "      <td>0.169016</td>\n",
       "      <td>0.169016</td>\n",
       "    </tr>\n",
       "    <tr>\n",
       "      <th>3</th>\n",
       "      <td>0.194410</td>\n",
       "      <td>0.207462</td>\n",
       "      <td>0.207462</td>\n",
       "      <td>0.207462</td>\n",
       "      <td>0.207462</td>\n",
       "    </tr>\n",
       "    <tr>\n",
       "      <th>4</th>\n",
       "      <td>0.237414</td>\n",
       "      <td>0.242884</td>\n",
       "      <td>0.242884</td>\n",
       "      <td>0.242884</td>\n",
       "      <td>0.242884</td>\n",
       "    </tr>\n",
       "    <tr>\n",
       "      <th>...</th>\n",
       "      <td>...</td>\n",
       "      <td>...</td>\n",
       "      <td>...</td>\n",
       "      <td>...</td>\n",
       "      <td>...</td>\n",
       "    </tr>\n",
       "    <tr>\n",
       "      <th>95</th>\n",
       "      <td>0.792426</td>\n",
       "      <td>0.794984</td>\n",
       "      <td>0.794984</td>\n",
       "      <td>0.794984</td>\n",
       "      <td>0.794984</td>\n",
       "    </tr>\n",
       "    <tr>\n",
       "      <th>96</th>\n",
       "      <td>0.806502</td>\n",
       "      <td>0.808881</td>\n",
       "      <td>0.808881</td>\n",
       "      <td>0.808881</td>\n",
       "      <td>0.808881</td>\n",
       "    </tr>\n",
       "    <tr>\n",
       "      <th>97</th>\n",
       "      <td>0.807058</td>\n",
       "      <td>0.807792</td>\n",
       "      <td>0.807792</td>\n",
       "      <td>0.807792</td>\n",
       "      <td>0.807792</td>\n",
       "    </tr>\n",
       "    <tr>\n",
       "      <th>98</th>\n",
       "      <td>0.810371</td>\n",
       "      <td>0.811483</td>\n",
       "      <td>0.811483</td>\n",
       "      <td>0.811483</td>\n",
       "      <td>0.811483</td>\n",
       "    </tr>\n",
       "    <tr>\n",
       "      <th>99</th>\n",
       "      <td>0.805612</td>\n",
       "      <td>0.807169</td>\n",
       "      <td>0.807169</td>\n",
       "      <td>0.807169</td>\n",
       "      <td>0.807169</td>\n",
       "    </tr>\n",
       "  </tbody>\n",
       "</table>\n",
       "<p>100 rows × 5 columns</p>\n",
       "</div>"
      ],
      "text/plain": [
       "           1         2         3         4         5\n",
       "0   0.100040  0.100040  0.100040  0.100040  0.100040\n",
       "1   0.130192  0.129636  0.129636  0.129636  0.129636\n",
       "2   0.177199  0.169016  0.169016  0.169016  0.169016\n",
       "3   0.194410  0.207462  0.207462  0.207462  0.207462\n",
       "4   0.237414  0.242884  0.242884  0.242884  0.242884\n",
       "..       ...       ...       ...       ...       ...\n",
       "95  0.792426  0.794984  0.794984  0.794984  0.794984\n",
       "96  0.806502  0.808881  0.808881  0.808881  0.808881\n",
       "97  0.807058  0.807792  0.807792  0.807792  0.807792\n",
       "98  0.810371  0.811483  0.811483  0.811483  0.811483\n",
       "99  0.805612  0.807169  0.807169  0.807169  0.807169\n",
       "\n",
       "[100 rows x 5 columns]"
      ]
     },
     "execution_count": 2,
     "metadata": {},
     "output_type": "execute_result"
    }
   ],
   "source": [
    "import matplotlib.pyplot as plt\n",
    "import pandas as pd\n",
    "df = pd.read_csv('results/CORe50_PQ_CS_adam_accuracy_95_lr0.001.csv',index_col='Unnamed: 0')\n",
    "df"
   ]
  },
  {
   "cell_type": "code",
   "execution_count": 3,
   "metadata": {},
   "outputs": [
    {
     "data": {
      "text/html": [
       "<div>\n",
       "<style scoped>\n",
       "    .dataframe tbody tr th:only-of-type {\n",
       "        vertical-align: middle;\n",
       "    }\n",
       "\n",
       "    .dataframe tbody tr th {\n",
       "        vertical-align: top;\n",
       "    }\n",
       "\n",
       "    .dataframe thead th {\n",
       "        text-align: right;\n",
       "    }\n",
       "</style>\n",
       "<table border=\"1\" class=\"dataframe\">\n",
       "  <thead>\n",
       "    <tr style=\"text-align: right;\">\n",
       "      <th></th>\n",
       "      <th>1</th>\n",
       "      <th>2</th>\n",
       "      <th>3</th>\n",
       "      <th>4</th>\n",
       "      <th>5</th>\n",
       "    </tr>\n",
       "  </thead>\n",
       "  <tbody>\n",
       "    <tr>\n",
       "      <th>0</th>\n",
       "      <td>0.100040</td>\n",
       "      <td>0.100040</td>\n",
       "      <td>0.100040</td>\n",
       "      <td>0.100040</td>\n",
       "      <td>0.100040</td>\n",
       "    </tr>\n",
       "    <tr>\n",
       "      <th>1</th>\n",
       "      <td>0.142489</td>\n",
       "      <td>0.137219</td>\n",
       "      <td>0.122743</td>\n",
       "      <td>0.122743</td>\n",
       "      <td>0.122743</td>\n",
       "    </tr>\n",
       "    <tr>\n",
       "      <th>2</th>\n",
       "      <td>0.154985</td>\n",
       "      <td>0.179200</td>\n",
       "      <td>0.166259</td>\n",
       "      <td>0.166259</td>\n",
       "      <td>0.166259</td>\n",
       "    </tr>\n",
       "    <tr>\n",
       "      <th>3</th>\n",
       "      <td>0.176443</td>\n",
       "      <td>0.198057</td>\n",
       "      <td>0.203771</td>\n",
       "      <td>0.203771</td>\n",
       "      <td>0.203771</td>\n",
       "    </tr>\n",
       "    <tr>\n",
       "      <th>4</th>\n",
       "      <td>0.218314</td>\n",
       "      <td>0.238015</td>\n",
       "      <td>0.242907</td>\n",
       "      <td>0.242907</td>\n",
       "      <td>0.242907</td>\n",
       "    </tr>\n",
       "    <tr>\n",
       "      <th>...</th>\n",
       "      <td>...</td>\n",
       "      <td>...</td>\n",
       "      <td>...</td>\n",
       "      <td>...</td>\n",
       "      <td>...</td>\n",
       "    </tr>\n",
       "    <tr>\n",
       "      <th>95</th>\n",
       "      <td>0.834541</td>\n",
       "      <td>0.829316</td>\n",
       "      <td>0.836209</td>\n",
       "      <td>0.836209</td>\n",
       "      <td>0.836209</td>\n",
       "    </tr>\n",
       "    <tr>\n",
       "      <th>96</th>\n",
       "      <td>0.839856</td>\n",
       "      <td>0.836587</td>\n",
       "      <td>0.833741</td>\n",
       "      <td>0.833741</td>\n",
       "      <td>0.833741</td>\n",
       "    </tr>\n",
       "    <tr>\n",
       "      <th>97</th>\n",
       "      <td>0.837899</td>\n",
       "      <td>0.834408</td>\n",
       "      <td>0.836498</td>\n",
       "      <td>0.836498</td>\n",
       "      <td>0.836498</td>\n",
       "    </tr>\n",
       "    <tr>\n",
       "      <th>98</th>\n",
       "      <td>0.839278</td>\n",
       "      <td>0.837032</td>\n",
       "      <td>0.837521</td>\n",
       "      <td>0.837521</td>\n",
       "      <td>0.837521</td>\n",
       "    </tr>\n",
       "    <tr>\n",
       "      <th>99</th>\n",
       "      <td>0.840590</td>\n",
       "      <td>0.837810</td>\n",
       "      <td>0.837699</td>\n",
       "      <td>0.837699</td>\n",
       "      <td>0.837699</td>\n",
       "    </tr>\n",
       "  </tbody>\n",
       "</table>\n",
       "<p>100 rows × 5 columns</p>\n",
       "</div>"
      ],
      "text/plain": [
       "           1         2         3         4         5\n",
       "0   0.100040  0.100040  0.100040  0.100040  0.100040\n",
       "1   0.142489  0.137219  0.122743  0.122743  0.122743\n",
       "2   0.154985  0.179200  0.166259  0.166259  0.166259\n",
       "3   0.176443  0.198057  0.203771  0.203771  0.203771\n",
       "4   0.218314  0.238015  0.242907  0.242907  0.242907\n",
       "..       ...       ...       ...       ...       ...\n",
       "95  0.834541  0.829316  0.836209  0.836209  0.836209\n",
       "96  0.839856  0.836587  0.833741  0.833741  0.833741\n",
       "97  0.837899  0.834408  0.836498  0.836498  0.836498\n",
       "98  0.839278  0.837032  0.837521  0.837521  0.837521\n",
       "99  0.840590  0.837810  0.837699  0.837699  0.837699\n",
       "\n",
       "[100 rows x 5 columns]"
      ]
     },
     "execution_count": 3,
     "metadata": {},
     "output_type": "execute_result"
    }
   ],
   "source": [
    "import matplotlib.pyplot as plt\n",
    "import pandas as pd\n",
    "df2 = pd.read_csv('results/CORe50_PQ_CS_adam_accuracy_95_lr0.0001.csv',index_col='Unnamed: 0')\n",
    "df2"
   ]
  },
  {
   "cell_type": "code",
   "execution_count": 1,
   "metadata": {},
   "outputs": [
    {
     "ename": "NameError",
     "evalue": "name 'plt' is not defined",
     "output_type": "error",
     "traceback": [
      "\u001b[0;31m---------------------------------------------------------------------------\u001b[0m",
      "\u001b[0;31mNameError\u001b[0m                                 Traceback (most recent call last)",
      "Cell \u001b[0;32mIn[1], line 1\u001b[0m\n\u001b[0;32m----> 1\u001b[0m \u001b[43mplt\u001b[49m\u001b[38;5;241m.\u001b[39mfigure(figsize\u001b[38;5;241m=\u001b[39m(\u001b[38;5;241m4\u001b[39m,\u001b[38;5;241m4\u001b[39m))\n\u001b[1;32m      2\u001b[0m plt\u001b[38;5;241m.\u001b[39mxlim(\u001b[38;5;241m0\u001b[39m,\u001b[38;5;241m100\u001b[39m)\n\u001b[1;32m      3\u001b[0m plt\u001b[38;5;241m.\u001b[39mylim(\u001b[38;5;241m0\u001b[39m,\u001b[38;5;241m1\u001b[39m)\n",
      "\u001b[0;31mNameError\u001b[0m: name 'plt' is not defined"
     ]
    }
   ],
   "source": [
    "plt.figure(figsize=(4,4))\n",
    "plt.xlim(0,100)\n",
    "plt.ylim(0,1)\n",
    "for i in range(1,6):\n",
    "    # plt.scatter(range(1,101),df['{}'.format(i)].values)\n",
    "    plt.plot(range(1,101),df['{}'.format(i)].values,color='red')\n",
    "    # plt.scatter(range(1,101),df2['{}'.format(i)].values)\n",
    "    plt.plot(range(1,101),df2['{}'.format(i)].values,color='blue')\n",
    "plt.grid(color = 'gray', linestyle = '--', linewidth = 0.5)\n",
    "plt.show()"
   ]
  },
  {
   "cell_type": "code",
   "execution_count": 1,
   "metadata": {},
   "outputs": [],
   "source": [
    "import faiss\n",
    "import numpy as np\n",
    "\n",
    "# Generate random data\n",
    "d = 64  # dimensionality of the vectors\n",
    "nb = 10000  # number of vectors in the dataset\n",
    "np.random.seed(1234)\n",
    "data = np.random.random((nb, d)).astype('float32')\n",
    "\n",
    "# Parameters\n",
    "M = 8  # number of subquantizers\n",
    "\n",
    "# Initialize OPQ matrix\n",
    "opq_matrix = faiss.OPQMatrix(d, M)\n",
    "\n",
    "# Train the OPQ matrix on the data\n",
    "opq_matrix.train(data)\n",
    "\n",
    "# Apply the OPQ transformation\n",
    "transformed_data = opq_matrix.apply_py(data)\n",
    "\n",
    "\n"
   ]
  },
  {
   "cell_type": "code",
   "execution_count": 2,
   "metadata": {},
   "outputs": [],
   "source": [
    "pq = faiss.ProductQuantizer(d,M,8)\n",
    "pq.train(transformed_data)"
   ]
  },
  {
   "cell_type": "code",
   "execution_count": 38,
   "metadata": {},
   "outputs": [
    {
     "ename": "AttributeError",
     "evalue": "'ProductQuantizer' object has no attribute 'is_trained'",
     "output_type": "error",
     "traceback": [
      "\u001b[0;31m---------------------------------------------------------------------------\u001b[0m",
      "\u001b[0;31mAttributeError\u001b[0m                            Traceback (most recent call last)",
      "Cell \u001b[0;32mIn[38], line 1\u001b[0m\n\u001b[0;32m----> 1\u001b[0m \u001b[43mpq\u001b[49m\u001b[38;5;241;43m.\u001b[39;49m\u001b[43mis_trained\u001b[49m\n",
      "\u001b[0;31mAttributeError\u001b[0m: 'ProductQuantizer' object has no attribute 'is_trained'"
     ]
    }
   ],
   "source": [
    "pq.ce"
   ]
  },
  {
   "cell_type": "code",
   "execution_count": 3,
   "metadata": {},
   "outputs": [],
   "source": [
    "index = faiss.IndexPQ(d, M, 8)"
   ]
  },
  {
   "cell_type": "code",
   "execution_count": 4,
   "metadata": {},
   "outputs": [],
   "source": [
    "index.pq = pq\n",
    "index.is_trained = True"
   ]
  },
  {
   "cell_type": "code",
   "execution_count": 5,
   "metadata": {},
   "outputs": [],
   "source": [
    "index.add(transformed_data)"
   ]
  },
  {
   "cell_type": "code",
   "execution_count": 6,
   "metadata": {},
   "outputs": [
    {
     "data": {
      "text/plain": [
       "True"
      ]
     },
     "execution_count": 6,
     "metadata": {},
     "output_type": "execute_result"
    }
   ],
   "source": [
    "index.is_trained"
   ]
  },
  {
   "cell_type": "code",
   "execution_count": 7,
   "metadata": {},
   "outputs": [
    {
     "data": {
      "text/plain": [
       "<faiss.swigfaiss_avx512.UInt8Vector; proxy of <Swig Object of type 'std::vector< uint8_t > *' at 0x7fc53d347240> >"
      ]
     },
     "execution_count": 7,
     "metadata": {},
     "output_type": "execute_result"
    }
   ],
   "source": [
    "index.codes"
   ]
  },
  {
   "cell_type": "code",
   "execution_count": 10,
   "metadata": {},
   "outputs": [
    {
     "data": {
      "text/plain": [
       "(64,)"
      ]
     },
     "execution_count": 10,
     "metadata": {},
     "output_type": "execute_result"
    }
   ],
   "source": [
    "index.reconstruct(0).shape"
   ]
  },
  {
   "cell_type": "code",
   "execution_count": 34,
   "metadata": {},
   "outputs": [
    {
     "ename": "AttributeError",
     "evalue": "'ProductQuantizer' object has no attribute 'is_trained'",
     "output_type": "error",
     "traceback": [
      "\u001b[0;31m---------------------------------------------------------------------------\u001b[0m",
      "\u001b[0;31mAttributeError\u001b[0m                            Traceback (most recent call last)",
      "Cell \u001b[0;32mIn[34], line 1\u001b[0m\n\u001b[0;32m----> 1\u001b[0m \u001b[43mpq\u001b[49m\u001b[38;5;241;43m.\u001b[39;49m\u001b[43mis_trained\u001b[49m()\n",
      "\u001b[0;31mAttributeError\u001b[0m: 'ProductQuantizer' object has no attribute 'is_trained'"
     ]
    }
   ],
   "source": [
    "pq.is_trained()"
   ]
  },
  {
   "cell_type": "code",
   "execution_count": 32,
   "metadata": {},
   "outputs": [
    {
     "data": {
      "text/plain": [
       "<faiss.swigfaiss_avx512.UInt8Vector; proxy of <Swig Object of type 'std::vector< uint8_t > *' at 0x7fdb8ec3bb10> >"
      ]
     },
     "execution_count": 32,
     "metadata": {},
     "output_type": "execute_result"
    }
   ],
   "source": [
    "index.codes"
   ]
  },
  {
   "cell_type": "code",
   "execution_count": 23,
   "metadata": {},
   "outputs": [
    {
     "data": {
      "text/plain": [
       "array([[[ 0.29153636, -0.24219048, -0.7226466 , ..., -0.01490433,\n",
       "         -0.22303875,  1.0369418 ],\n",
       "        [ 0.2573278 ,  0.59547395, -0.26804894, ...,  0.323714  ,\n",
       "         -0.69551975,  0.8480503 ],\n",
       "        [ 0.65540045,  0.7760734 , -0.4225426 , ...,  0.39012557,\n",
       "         -0.21908465,  1.1064475 ],\n",
       "        ...,\n",
       "        [ 0.05254466,  0.24634923, -0.55049294, ...,  0.49023575,\n",
       "         -0.29395902,  1.167116  ],\n",
       "        [-0.30579978,  0.476614  , -0.55703264, ...,  0.5173303 ,\n",
       "         -0.6794568 ,  1.1599414 ],\n",
       "        [ 0.33400342, -0.29073074, -0.5626743 , ...,  0.35951534,\n",
       "         -0.14981623,  1.3761464 ]],\n",
       "\n",
       "       [[-0.73807096,  0.21591954,  0.9566109 , ...,  0.3583282 ,\n",
       "         -0.54355454, -0.36067545],\n",
       "        [-0.4294225 ,  0.19669357,  0.14451867, ...,  0.16306363,\n",
       "          0.18852206, -0.19612268],\n",
       "        [-0.0126529 , -0.24089815,  0.22778682, ...,  0.5254516 ,\n",
       "         -0.2701642 , -0.14935948],\n",
       "        ...,\n",
       "        [-1.0937797 , -0.0789033 ,  0.1083404 , ...,  0.36862502,\n",
       "         -0.43986347, -0.17050347],\n",
       "        [-0.44144946,  0.31925163,  0.50571984, ...,  0.5000004 ,\n",
       "         -0.03139424, -0.17082943],\n",
       "        [-0.7034909 , -0.14166935,  1.0582054 , ...,  0.6622973 ,\n",
       "          0.09273423, -0.42379123]],\n",
       "\n",
       "       [[-1.1887113 ,  0.5249427 ,  0.6902781 , ..., -0.13608801,\n",
       "         -0.2018354 , -0.40179995],\n",
       "        [-0.9532237 ,  0.24622534,  0.5670454 , ...,  0.27736747,\n",
       "         -0.2110721 , -0.30194947],\n",
       "        [-0.44658738,  0.61436546,  0.60953116, ...,  0.12093034,\n",
       "          0.01356643,  0.37593666],\n",
       "        ...,\n",
       "        [-1.2886891 ,  0.5890657 ,  0.90483767, ..., -0.0106512 ,\n",
       "          0.48867077,  0.09181505],\n",
       "        [-1.0008458 ,  0.90614563,  0.7356401 , ...,  0.39673892,\n",
       "          0.34618503,  0.39468935],\n",
       "        [-0.86637336,  0.8194421 ,  0.4432982 , ...,  0.09430186,\n",
       "          0.4431996 ,  0.12381122]],\n",
       "\n",
       "       ...,\n",
       "\n",
       "       [[-0.21837743,  0.081735  , -0.24441832, ...,  0.60512644,\n",
       "          0.15827055, -0.70544606],\n",
       "        [ 0.14536664,  0.1535774 , -0.1505409 , ...,  0.42273468,\n",
       "         -0.29877245, -0.22167778],\n",
       "        [-0.42856097, -0.0652927 , -0.15669277, ...,  0.01452243,\n",
       "         -0.5002506 , -0.14936164],\n",
       "        ...,\n",
       "        [-0.19814716,  0.6636983 ,  0.26516828, ...,  0.18932262,\n",
       "         -0.12823051, -0.16152142],\n",
       "        [-0.22298631,  0.35849255, -0.1479133 , ...,  0.05733299,\n",
       "          0.05161751, -0.49511075],\n",
       "        [-0.61715883,  0.24584153, -0.39631656, ...,  0.3109557 ,\n",
       "         -0.39168337, -0.13984795]],\n",
       "\n",
       "       [[-0.51306504, -1.1366307 ,  0.21044883, ..., -0.58971095,\n",
       "          1.0046164 ,  0.01494637],\n",
       "        [-0.85553867, -0.690002  , -0.40002105, ..., -0.69229287,\n",
       "          0.01036373,  0.04916996],\n",
       "        [-0.77027243, -0.42741203, -0.19348736, ..., -0.573689  ,\n",
       "          0.36467502,  0.20299646],\n",
       "        ...,\n",
       "        [-0.7264268 , -1.477226  , -0.37743533, ..., -0.7232906 ,\n",
       "          0.76316845,  0.18320549],\n",
       "        [-0.7669101 , -0.6652038 , -0.2526109 , ..., -0.8965091 ,\n",
       "          0.4021743 , -0.2245612 ],\n",
       "        [-0.14307348, -1.0271093 ,  0.0769638 , ..., -0.41215798,\n",
       "          0.6268185 ,  0.2307469 ]],\n",
       "\n",
       "       [[-0.2421983 ,  0.13630107, -0.8953023 , ..., -0.06770926,\n",
       "          0.6453754 , -0.32483217],\n",
       "        [-0.25179464, -0.12399659,  0.03715441, ...,  0.33091813,\n",
       "          0.23453538, -0.3103333 ],\n",
       "        [-0.13652727, -0.27991056, -0.13053936, ...,  0.02829631,\n",
       "          0.26935413, -0.04543898],\n",
       "        ...,\n",
       "        [-0.22739857, -0.25933996, -0.69674253, ...,  0.43013066,\n",
       "          0.80536544, -0.00777184],\n",
       "        [-0.7448569 , -0.01994865, -0.2625316 , ...,  0.45022497,\n",
       "          0.22563387, -0.05592589],\n",
       "        [-0.5615607 , -0.34245107, -0.00295695, ...,  0.12468098,\n",
       "          0.6204453 ,  0.13052787]]], dtype=float32)"
      ]
     },
     "execution_count": 23,
     "metadata": {},
     "output_type": "execute_result"
    }
   ],
   "source": [
    "faiss.vector_to_array(pq.centroids).reshape(pq.M, pq.ksub, pq.dsub)"
   ]
  }
 ],
 "metadata": {
  "kernelspec": {
   "display_name": "cl",
   "language": "python",
   "name": "python3"
  },
  "language_info": {
   "codemirror_mode": {
    "name": "ipython",
    "version": 3
   },
   "file_extension": ".py",
   "mimetype": "text/x-python",
   "name": "python",
   "nbconvert_exporter": "python",
   "pygments_lexer": "ipython3",
   "version": "3.11.3"
  }
 },
 "nbformat": 4,
 "nbformat_minor": 2
}
